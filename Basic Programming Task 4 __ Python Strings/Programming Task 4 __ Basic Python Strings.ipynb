{
 "cells": [
  {
   "cell_type": "markdown",
   "id": "fe4a758c",
   "metadata": {},
   "source": [
    "### Programming Task 4 __ Basic Python Strings"
   ]
  },
  {
   "cell_type": "markdown",
   "id": "b1b4442a",
   "metadata": {},
   "source": [
    "#### Q1. Answer"
   ]
  },
  {
   "cell_type": "code",
   "execution_count": 1,
   "id": "8ee419b3",
   "metadata": {},
   "outputs": [
    {
     "name": "stdout",
     "output_type": "stream",
     "text": [
      "Enter String: HackerRank.com presents \"Pythonist 2\"\n",
      "The SwapCase String is:  hACKERrANK.COM PRESENTS \"pYTHONIST 2\"\n"
     ]
    }
   ],
   "source": [
    "# sWAP cASE\n",
    "\n",
    "# Input: HackerRank.com presents \"Pythonist 2\".\n",
    "\n",
    "def swap_case(s):\n",
    "    return s.swapcase()\n",
    "\n",
    "String = str(input('Enter String: ' ))\n",
    "Swap_String = swap_case(String)\n",
    "print('The SwapCase String is: ', Swap_String)"
   ]
  },
  {
   "cell_type": "markdown",
   "id": "0224b0a6",
   "metadata": {},
   "source": [
    "#### Q2. Answer"
   ]
  },
  {
   "cell_type": "code",
   "execution_count": 2,
   "id": "e76a9b54",
   "metadata": {},
   "outputs": [
    {
     "name": "stdout",
     "output_type": "stream",
     "text": [
      "Enter String: this is a string\n",
      "this-is-a-string\n"
     ]
    }
   ],
   "source": [
    "# String Split and Join\n",
    "# You are given a string. Split the string on a \" \" (space) delimiter and join using a - hyphen.\n",
    "\n",
    "# Input: this is a string   \n",
    "\n",
    "def split_and_join(s):\n",
    "    return '-'.join(s.split())\n",
    "\n",
    "String = str(input('Enter String: ' ))\n",
    "print(split_and_join(String))"
   ]
  },
  {
   "cell_type": "markdown",
   "id": "278e29d7",
   "metadata": {},
   "source": [
    "#### Q3. Answer"
   ]
  },
  {
   "cell_type": "code",
   "execution_count": 3,
   "id": "ae24ec55",
   "metadata": {},
   "outputs": [
    {
     "name": "stdout",
     "output_type": "stream",
     "text": [
      "Enter FirstName: Ross\n",
      "Enter LastName: Taylor\n",
      "Hello Ross Taylor! You just delved into python\n"
     ]
    }
   ],
   "source": [
    "# What's Your Name\n",
    "# Input: First_Name: Ross, Last_Name: Taylor\n",
    "\n",
    "def print_full_name(First, Last):\n",
    "        print('Hello', First, Last + '! You just delved into python')\n",
    "\n",
    "First_Name = str(input('Enter FirstName: ' ))\n",
    "Last_Name = str(input('Enter LastName: ' ))\n",
    "print_full_name(First_Name, Last_Name)"
   ]
  },
  {
   "cell_type": "markdown",
   "id": "8788465d",
   "metadata": {},
   "source": [
    "#### Q4. Answer"
   ]
  },
  {
   "cell_type": "code",
   "execution_count": 4,
   "id": "04e524da",
   "metadata": {},
   "outputs": [
    {
     "name": "stdout",
     "output_type": "stream",
     "text": [
      "Enter String: abracadabra\n",
      "abrackdabra\n"
     ]
    }
   ],
   "source": [
    "# Mutations\n",
    "# Read a given string, change the character at a given index and then print the modified string.\n",
    "# STDIN           Function\n",
    "# -----           --------\n",
    "# abracadabra     s = 'abracadabra'\n",
    "# 5 k             position = 5, character = 'k'\n",
    "\n",
    "String = str(input('Enter String: ' ))\n",
    "l = list(String)\n",
    "l[5] = 'k'\n",
    "String = ''.join(l)\n",
    "print(String)"
   ]
  },
  {
   "cell_type": "code",
   "execution_count": 5,
   "id": "32d39c37",
   "metadata": {},
   "outputs": [
    {
     "name": "stdout",
     "output_type": "stream",
     "text": [
      "Enter String:abracadabra\n",
      "Enter Position:5\n",
      "Enter Character:k\n",
      "abrackdabra\n"
     ]
    }
   ],
   "source": [
    "# Mutations\n",
    "# Read a given string, change the character at a given index and then print the modified string.\n",
    "# STDIN           Function\n",
    "# -----           --------\n",
    "# abracadabra     s = 'abracadabra'\n",
    "# 5 k             position = 5, character = 'k'\n",
    "\n",
    "def mutate_string(String, Position, Character):\n",
    "    return String[:Position]+Character+String[Position+1:]\n",
    "\n",
    "String_s = str(input('Enter String:' ))\n",
    "Position_p = int(input('Enter Position:' ))\n",
    "Character_c = str(input('Enter Character:' ))\n",
    "\n",
    "print(mutate_string(String_s, Position_p, Character_c))\n",
    "\n",
    "# string = string[:5] + \"k\" + string[6:]\n",
    "# print string\n",
    "# abrackdabra"
   ]
  },
  {
   "cell_type": "markdown",
   "id": "da0e9ac9",
   "metadata": {},
   "source": [
    "#### Q5. Answer"
   ]
  },
  {
   "cell_type": "code",
   "execution_count": 6,
   "id": "0306b9d9",
   "metadata": {},
   "outputs": [
    {
     "name": "stdout",
     "output_type": "stream",
     "text": [
      "Enter String: ABCDCDC\n",
      "Enter Sub String: CDC\n",
      "2\n"
     ]
    }
   ],
   "source": [
    "# Find a String\n",
    "# Input: String: ABCDCDC\n",
    "#        SubString: CDC\n",
    "\n",
    "def count_substring(String, Sub_String):\n",
    "    count = 0\n",
    "    for s in range(len(String)):\n",
    "        if String.find(Sub_String, s) == s:\n",
    "            count = count + 1\n",
    "    return count\n",
    "    \n",
    "String_s = str(input('Enter String: ' ))\n",
    "Sub_String_ss = str(input('Enter Sub String: ' ))\n",
    "print(count_substring(String_s, Sub_String_ss))"
   ]
  },
  {
   "cell_type": "markdown",
   "id": "2ab35063",
   "metadata": {},
   "source": [
    "#### Q6. Answer"
   ]
  },
  {
   "cell_type": "code",
   "execution_count": 7,
   "id": "c70f5c44",
   "metadata": {},
   "outputs": [
    {
     "name": "stdout",
     "output_type": "stream",
     "text": [
      "Enter Input: qA2\n",
      "True\n",
      "True\n",
      "True\n",
      "True\n",
      "True\n"
     ]
    }
   ],
   "source": [
    "# String Validators\n",
    "# You are given a string S. Your task is to find out if the string S contains: alphanumeric characters, alphabetical characters, digits, lowercase and uppercase characters.\n",
    "# Input: qA2\n",
    "\n",
    "String = input('Enter Input: ')\n",
    "\n",
    "# str.isalnum()\n",
    "Characters = False\n",
    "for i in String:\n",
    "    if i.isalnum():\n",
    "        Characters = True\n",
    "        break\n",
    "print(Characters)\n",
    "\n",
    "# str.isalpha()\n",
    "Characters = False\n",
    "for j in String:\n",
    "    if j.isalpha():\n",
    "        Characters = True\n",
    "        break\n",
    "print(Characters)\n",
    "\n",
    "# str.isdigit()\n",
    "Characters = False\n",
    "for k in String:\n",
    "    if k.isdigit():\n",
    "        Characters = True\n",
    "        break\n",
    "print(Characters)\n",
    "\n",
    "# str.islower()\n",
    "Characters = False\n",
    "for l in String:\n",
    "    if l.islower():\n",
    "        Characters = True\n",
    "        break\n",
    "print(Characters)\n",
    "\n",
    "# str.isupper()\n",
    "Characters = False\n",
    "for m in String:\n",
    "    if m.isupper():\n",
    "        Characters = True\n",
    "        break\n",
    "print(Characters)"
   ]
  },
  {
   "cell_type": "markdown",
   "id": "4d37c1e8",
   "metadata": {},
   "source": [
    "#### Q7. Answer"
   ]
  },
  {
   "cell_type": "code",
   "execution_count": 8,
   "id": "20449b63",
   "metadata": {},
   "outputs": [
    {
     "name": "stdout",
     "output_type": "stream",
     "text": [
      "Enter Odd Number:2\n",
      "Enter Odd Number:6\n",
      "Enter Odd Number:5\n",
      "    H    \n",
      "   HHH   \n",
      "  HHHHH  \n",
      " HHHHHHH \n",
      "HHHHHHHHH\n",
      "  HHHHH               HHHHH             \n",
      "  HHHHH               HHHHH             \n",
      "  HHHHH               HHHHH             \n",
      "  HHHHH               HHHHH             \n",
      "  HHHHH               HHHHH             \n",
      "  HHHHH               HHHHH             \n",
      "  HHHHHHHHHHHHHHHHHHHHHHHHH   \n",
      "  HHHHHHHHHHHHHHHHHHHHHHHHH   \n",
      "  HHHHHHHHHHHHHHHHHHHHHHHHH   \n",
      "  HHHHH               HHHHH             \n",
      "  HHHHH               HHHHH             \n",
      "  HHHHH               HHHHH             \n",
      "  HHHHH               HHHHH             \n",
      "  HHHHH               HHHHH             \n",
      "  HHHHH               HHHHH             \n",
      "                    HHHHHHHHH \n",
      "                     HHHHHHH  \n",
      "                      HHHHH   \n",
      "                       HHH    \n",
      "                        H     \n"
     ]
    }
   ],
   "source": [
    "# Text Alignment\n",
    "# Input: 5\n",
    "\n",
    "thickness = 0\n",
    "while thickness % 2 == 0:\n",
    "    thickness = int(input('Enter Odd Number:' )) #This must be an odd number\n",
    "c = 'H'\n",
    "\n",
    "#Top Cone\n",
    "for i in range(thickness):\n",
    "    print((c*i).rjust(thickness-1)+c+(c*i).ljust(thickness-1))\n",
    "\n",
    "#Top Pillars\n",
    "for i in range(thickness+1):\n",
    "    print((c*thickness).center(thickness*2)+(c*thickness).center(thickness*6))\n",
    "\n",
    "#Middle Belt\n",
    "for i in range((thickness+1)//2):\n",
    "    print((c*thickness*5).center(thickness*6))    \n",
    "\n",
    "#Bottom Pillars\n",
    "for i in range(thickness+1):\n",
    "    print((c*thickness).center(thickness*2)+(c*thickness).center(thickness*6))    \n",
    "\n",
    "#Bottom Cone\n",
    "for i in range(thickness):\n",
    "    print(((c*(thickness-i-1)).rjust(thickness)+c+(c*(thickness-i-1)).ljust(thickness)).rjust(thickness*6))"
   ]
  },
  {
   "cell_type": "markdown",
   "id": "05f00b57",
   "metadata": {},
   "source": [
    "#### Q8. Answer"
   ]
  },
  {
   "cell_type": "code",
   "execution_count": 9,
   "id": "a3a4febb",
   "metadata": {},
   "outputs": [
    {
     "name": "stdout",
     "output_type": "stream",
     "text": [
      "Enter String: ABCDEFGHIJKLIMNOQRSTUVWXYZ\n",
      "Enter Max Width: 4\n",
      "ABCD\n",
      "EFGH\n",
      "IJKL\n",
      "IMNO\n",
      "QRST\n",
      "UVWX\n",
      "YZ\n",
      "\n"
     ]
    }
   ],
   "source": [
    "# Text Wrap\n",
    "# Input: ABCDEFGHIJKLIMNOQRSTUVWXYZ\n",
    "#        4\n",
    "# You are given a string S and width w.\n",
    "# Your task is to wrap the string into a paragraph of width w.\n",
    "\n",
    "def wrap(String, Max_width):\n",
    "    s = ''\n",
    "    for i in range(0, len(String), Max_width):\n",
    "        s+=String[i:i+Max_width]\n",
    "        s+='\\n'\n",
    "    return s\n",
    "\n",
    "String_s = input('Enter String: ')\n",
    "Width = int(input('Enter Max Width: '))\n",
    "print(wrap(String_s, Width))"
   ]
  },
  {
   "cell_type": "markdown",
   "id": "90bb91fc",
   "metadata": {},
   "source": [
    "#### Q9. Answer"
   ]
  },
  {
   "cell_type": "code",
   "execution_count": 10,
   "id": "045dec3e",
   "metadata": {},
   "outputs": [
    {
     "name": "stdout",
     "output_type": "stream",
     "text": [
      "Enter the Number: 9\n",
      "Enter the Number: 27\n",
      "------------.|.------------\n",
      "---------.|..|..|.---------\n",
      "------.|..|..|..|..|.------\n",
      "---.|..|..|..|..|..|..|.---\n",
      "----------WELCOME----------\n",
      "---.|..|..|..|..|..|..|.---\n",
      "------.|..|..|..|..|.------\n",
      "---------.|..|..|.---------\n",
      "------------.|.------------\n"
     ]
    }
   ],
   "source": [
    "# Designer Door Mat\n",
    "# Input: 9, 27\n",
    "\n",
    "n = int(input('Enter the Number: ' ))\n",
    "m = int(input('Enter the Number: ' ))\n",
    "\n",
    "if n % 2 !=0 and n >= 1:\n",
    "    m = n * 3\n",
    "    for i in range(0, int(n/2)):\n",
    "        pattern = '.|.' * ((i * 2) + 1)\n",
    "        print(pattern.center(m, '-'))\n",
    "    print('WELCOME'.center(m, '-')) \n",
    "    \n",
    "    for j in range(int(n/2), 0, -1):\n",
    "        pattern = '.|.' * ((j * 2) - 1)\n",
    "        print(pattern.center(m, '-'))"
   ]
  },
  {
   "cell_type": "markdown",
   "id": "5c2930e9",
   "metadata": {},
   "source": [
    "#### Q10. Answer"
   ]
  },
  {
   "cell_type": "code",
   "execution_count": 11,
   "id": "e6816752",
   "metadata": {},
   "outputs": [
    {
     "name": "stdout",
     "output_type": "stream",
     "text": [
      "Enter the Number: 2\n",
      " 1  1  1  1\n",
      " 2  2  2 10\n"
     ]
    }
   ],
   "source": [
    "# String Formatting\n",
    "\n",
    "def string_format(number):\n",
    "    num_binary = format(number, 'b')\n",
    "    width = len(num_binary)\n",
    "    for i in range(1, number+1, 1):\n",
    "        decimal = str(i).rjust(width)\n",
    "        octal = format(i, 'o').rjust(width)\n",
    "        hexadecimal = format(i, 'X').rjust(width)\n",
    "        binary = format(i, 'b').rjust(width)\n",
    "        print(f'{decimal} {octal} {hexadecimal} {binary}')\n",
    "        \n",
    "number_n = int(input('Enter the Number: '))\n",
    "string_format(number_n)    "
   ]
  },
  {
   "cell_type": "markdown",
   "id": "4d064fbf",
   "metadata": {},
   "source": [
    "#### Q11. Answer"
   ]
  },
  {
   "cell_type": "code",
   "execution_count": 12,
   "id": "324a4f03",
   "metadata": {},
   "outputs": [
    {
     "name": "stdout",
     "output_type": "stream",
     "text": [
      "Enter Size of the Pattern: 5\n",
      "--------e--------\n",
      "------e-d-e------\n",
      "----e-d-c-d-e----\n",
      "--e-d-c-b-c-d-e--\n",
      "e-d-c-b-a-b-c-d-e\n",
      "--e-d-c-b-c-d-e--\n",
      "----e-d-c-d-e----\n",
      "------e-d-e------\n",
      "--------e--------\n"
     ]
    }
   ],
   "source": [
    "# Alphabet Rangoli\n",
    "\n",
    "import string\n",
    "def rangoli_pattern(n):\n",
    "    L = []\n",
    "    alphabet = string.ascii_lowercase\n",
    "    width = 4*n-3\n",
    "    for i in range(n):\n",
    "        s = '-'.join(alphabet[i:n])\n",
    "        L.append((s[::-1]+s[1:]).center(width, '-'))\n",
    "    print('\\n'.join(L[:0:-1]+L))\n",
    "\n",
    "Size = int(input('Enter Size of the Pattern: '))\n",
    "rangoli_pattern(Size)"
   ]
  },
  {
   "cell_type": "markdown",
   "id": "1fcdc6a2",
   "metadata": {},
   "source": [
    "#### Q12. Answer"
   ]
  },
  {
   "cell_type": "code",
   "execution_count": 13,
   "id": "9d75e3a9",
   "metadata": {},
   "outputs": [
    {
     "name": "stdout",
     "output_type": "stream",
     "text": [
      "Enter String: hello world! python is fun.\n",
      "Capitalized String is:  Hello World! Python Is Fun.\n"
     ]
    }
   ],
   "source": [
    "# Capitalize!\n",
    "def capitalize_str(string):\n",
    "    for i in string.split():\n",
    "        string = string.replace(i, i.capitalize())\n",
    "    return string\n",
    "String = str(input('Enter String: '))\n",
    "print('Capitalized String is: ', capitalize_str(String))"
   ]
  },
  {
   "cell_type": "markdown",
   "id": "6e09d052",
   "metadata": {},
   "source": [
    "#### Q13. Answer"
   ]
  },
  {
   "cell_type": "code",
   "execution_count": 14,
   "id": "37c8f7fc",
   "metadata": {},
   "outputs": [
    {
     "name": "stdout",
     "output_type": "stream",
     "text": [
      "Enter the String: BANANA\n",
      "Stuart 12\n"
     ]
    }
   ],
   "source": [
    "# The Minion Game\n",
    "\n",
    "def minion_game(string):\n",
    "    s = len(string)\n",
    "    vowel = 0\n",
    "    consonant = 0\n",
    "    for i in range(s):\n",
    "        if string[i] in 'AEIOUaeiou':\n",
    "            vowel = vowel + (s-i)\n",
    "        else:\n",
    "            consonant = consonant + (s-i)\n",
    "    \n",
    "    if vowel < consonant:\n",
    "        print('Stuart' +' '+ str(consonant))\n",
    "    elif vowel > consonant:\n",
    "        print('Kevin' +' '+ str(vowel))\n",
    "    else:\n",
    "        print('Draw')\n",
    "        \n",
    "String_s = str(input('Enter the String: '))\n",
    "minion_game(String_s)"
   ]
  },
  {
   "cell_type": "markdown",
   "id": "b2d45a99",
   "metadata": {},
   "source": [
    "#### Q14. Answer"
   ]
  },
  {
   "cell_type": "code",
   "execution_count": 15,
   "id": "5eb246bc",
   "metadata": {},
   "outputs": [
    {
     "name": "stdout",
     "output_type": "stream",
     "text": [
      "AABCAAADA\n",
      "3\n",
      "AB\n",
      "CA\n",
      "AD\n"
     ]
    }
   ],
   "source": [
    "# Merge the Tool!\n",
    "# AABCAAADA  \n",
    "# 3\n",
    "\n",
    "def merge_the_tools(string, k):\n",
    "    n = len(string)\n",
    "    def tools(items):\n",
    "        seen = set()\n",
    "        for i in items:\n",
    "            if i not in seen:\n",
    "                yield i\n",
    "                seen.add(i)\n",
    "                \n",
    "    while string:\n",
    "        word = string[0:k]\n",
    "        string = string[k:]\n",
    "        \n",
    "        print(''.join(tools(word)))\n",
    "        \n",
    "string = input()\n",
    "k = int(input())\n",
    "merge_the_tools(string, k)"
   ]
  }
 ],
 "metadata": {
  "kernelspec": {
   "display_name": "Python 3 (ipykernel)",
   "language": "python",
   "name": "python3"
  },
  "language_info": {
   "codemirror_mode": {
    "name": "ipython",
    "version": 3
   },
   "file_extension": ".py",
   "mimetype": "text/x-python",
   "name": "python",
   "nbconvert_exporter": "python",
   "pygments_lexer": "ipython3",
   "version": "3.9.7"
  }
 },
 "nbformat": 4,
 "nbformat_minor": 5
}
