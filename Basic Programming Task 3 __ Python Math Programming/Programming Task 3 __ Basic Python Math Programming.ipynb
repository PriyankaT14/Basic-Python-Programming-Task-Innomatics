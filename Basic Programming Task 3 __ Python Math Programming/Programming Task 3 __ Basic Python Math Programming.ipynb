{
 "cells": [
  {
   "cell_type": "markdown",
   "id": "fe4a758c",
   "metadata": {},
   "source": [
    "### Programming Task 3 __ Basic Python Math Programming"
   ]
  },
  {
   "cell_type": "markdown",
   "id": "b1b4442a",
   "metadata": {},
   "source": [
    "#### Q1. Answer"
   ]
  },
  {
   "cell_type": "code",
   "execution_count": 1,
   "id": "8ee419b3",
   "metadata": {},
   "outputs": [
    {
     "name": "stdout",
     "output_type": "stream",
     "text": [
      "Enter Complex Number:1+2j\n",
      "2.23606797749979\n",
      "1.1071487177940904\n"
     ]
    }
   ],
   "source": [
    "# Polar Coordinates without abs()\n",
    "\n",
    "import math, cmath\n",
    " \n",
    "Complex_number = complex(input('Enter Complex Number:' ))\n",
    "\n",
    "a = Complex_number.real\n",
    "b = Complex_number.imag\n",
    "\n",
    "print(math.sqrt(a**2+b**2))\n",
    "print(cmath.phase(complex(a,b)))\n",
    "\n",
    "# def my_abs(value):\n",
    "#     if value < 0+0j:\n",
    "#         return value * -1\n",
    "#     else:\n",
    "#         return value * 1\n",
    "# print(my_abs(value))"
   ]
  },
  {
   "cell_type": "code",
   "execution_count": 2,
   "id": "3f2199d8",
   "metadata": {},
   "outputs": [
    {
     "name": "stdout",
     "output_type": "stream",
     "text": [
      "Enter Complex Number:1+2j\n",
      "2.23606797749979\n",
      "1.1071487177940904\n"
     ]
    }
   ],
   "source": [
    "# Polar Coordinates with abs()\n",
    "\n",
    "import cmath\n",
    "Complex_number= complex(input('Enter Complex Number:' ))\n",
    "\n",
    "print(abs(Complex_number))\n",
    "print(cmath.phase(Complex_number))"
   ]
  },
  {
   "cell_type": "markdown",
   "id": "0224b0a6",
   "metadata": {},
   "source": [
    "#### Q2. Answer"
   ]
  },
  {
   "cell_type": "code",
   "execution_count": 3,
   "id": "e76a9b54",
   "metadata": {},
   "outputs": [
    {
     "name": "stdout",
     "output_type": "stream",
     "text": [
      "Enter the Number:10\n",
      "Enter the Number:10\n",
      "45°\n"
     ]
    }
   ],
   "source": [
    "# Find Angle MBC\n",
    "\n",
    "import math\n",
    "from math import atan, degrees\n",
    "\n",
    "ab = int(input('Enter the Number:' ))\n",
    "bc = int(input('Enter the Number:' ))\n",
    "\n",
    "angle_mbc = str(round(degrees(atan(ab/bc))))\n",
    "print(angle_mbc + chr(176))"
   ]
  },
  {
   "cell_type": "markdown",
   "id": "278e29d7",
   "metadata": {},
   "source": [
    "#### Q3. Answer"
   ]
  },
  {
   "cell_type": "code",
   "execution_count": 4,
   "id": "ae24ec55",
   "metadata": {},
   "outputs": [
    {
     "name": "stdout",
     "output_type": "stream",
     "text": [
      "Enter Number:5\n",
      "1\n",
      "121\n",
      "12321\n",
      "1234321\n",
      "123454321\n"
     ]
    }
   ],
   "source": [
    "# Triangle Quest 2\n",
    "# Print the palindromic triangle of size N as explained above.\n",
    "\n",
    "n = int(input('Enter Number:' ))\n",
    "for i in range(1, n+1):\n",
    "    print(int('1' * i)**2)"
   ]
  },
  {
   "cell_type": "markdown",
   "id": "8788465d",
   "metadata": {},
   "source": [
    "#### Q4. Answer"
   ]
  },
  {
   "cell_type": "code",
   "execution_count": 5,
   "id": "04e524da",
   "metadata": {},
   "outputs": [
    {
     "name": "stdout",
     "output_type": "stream",
     "text": [
      "Enter Number a:177\n",
      "Enter Number b:10\n",
      "Integer Division of a and b: 17\n",
      "Modulo of a and b: 7\n",
      "Divmod od a and b: (17, 7)\n"
     ]
    }
   ],
   "source": [
    "# Mod Divmod using divmod() function\n",
    "# Read in two integers, a and b, and print three lines. The first line is the integer division  a//b(While using Python2 remember to import division from __future__). The second line is the result of the modulo operator: a%b. The third line prints the divmod of a and b.\n",
    "\n",
    "a = int(input('Enter Number a:' ))\n",
    "b = int(input('Enter Number b:' ))\n",
    "\n",
    "qoutient = a//b\n",
    "reminder = a%b\n",
    "\n",
    "print('Integer Division of a and b:', a // b)\n",
    "print('Modulo of a and b:', a % b)\n",
    "print('Divmod od a and b:', (qoutient, reminder))"
   ]
  },
  {
   "cell_type": "code",
   "execution_count": 6,
   "id": "ea61e70e",
   "metadata": {},
   "outputs": [
    {
     "name": "stdout",
     "output_type": "stream",
     "text": [
      "Enter Number a:177\n",
      "Enter Number b:10\n",
      "Integer Division of a and b: 17\n",
      "Modulo of a and b: 7\n",
      "Divmod od a and b: (17, 7)\n"
     ]
    }
   ],
   "source": [
    "# Mod Divmod using divmod() function\n",
    "# Read in two integers, a and b, and print three lines. The first line is the integer division  a//b(While using Python2 remember to import division from __future__). The second line is the result of the modulo operator: a%b. The third line prints the divmod of a and b.\n",
    "\n",
    "a = int(input('Enter Number a:' ))\n",
    "b = int(input('Enter Number b:' ))\n",
    "\n",
    "print('Integer Division of a and b:', a // b)\n",
    "print('Modulo of a and b:', a % b)\n",
    "print('Divmod od a and b:', divmod(a, b))"
   ]
  },
  {
   "cell_type": "markdown",
   "id": "da0e9ac9",
   "metadata": {},
   "source": [
    "#### Q5. Answer"
   ]
  },
  {
   "cell_type": "code",
   "execution_count": 7,
   "id": "0306b9d9",
   "metadata": {},
   "outputs": [
    {
     "name": "stdout",
     "output_type": "stream",
     "text": [
      "Enter Number a: 3\n",
      "Enter Number b: 4\n",
      "Enter Number m: 5\n",
      "81\n",
      "1\n"
     ]
    }
   ],
   "source": [
    "# Power = Mod Power\n",
    "# You are given three integers: a, b, and m. Print two lines. On the first line, print the result of pow(a,b). On the second line, print the result of pow(a,b,m).\n",
    "\n",
    "a = int(input('Enter Number a: ' ))\n",
    "b = int(input('Enter Number b: ' ))\n",
    "m = int(input('Enter Number m: ' ))\n",
    "\n",
    "print(a ** b)\n",
    "print(a ** b % m)"
   ]
  },
  {
   "cell_type": "code",
   "execution_count": 8,
   "id": "813230f6",
   "metadata": {},
   "outputs": [
    {
     "name": "stdout",
     "output_type": "stream",
     "text": [
      "Enter Number a:3\n",
      "Enter Number b:4\n",
      "Enter Number m:5\n",
      "81\n",
      "1\n"
     ]
    }
   ],
   "source": [
    "# Power = Mod Power\n",
    "# You are given three integers: a, b, and m. Print two lines. On the first line, print the result of pow(a,b). On the second line, print the result of pow(a,b,m).\n",
    "\n",
    "a = int(input('Enter Number a:' ))\n",
    "b = int(input('Enter Number b:' ))\n",
    "m = int(input('Enter Number m:' ))\n",
    "\n",
    "print(pow(a, b))\n",
    "print(pow(a, b, m))"
   ]
  },
  {
   "cell_type": "markdown",
   "id": "2ab35063",
   "metadata": {},
   "source": [
    "#### Q6. Answer"
   ]
  },
  {
   "cell_type": "code",
   "execution_count": 9,
   "id": "c70f5c44",
   "metadata": {},
   "outputs": [
    {
     "name": "stdout",
     "output_type": "stream",
     "text": [
      "Enter the Number a: 9\n",
      "Enter the Number b: 29\n",
      "Enter the Number c: 7\n",
      "Enter the Number d: 27\n",
      "4710194409608608369201743232\n"
     ]
    }
   ],
   "source": [
    "# Integers Come in all sizes\n",
    "# Read four numbers, a, b, c, and d, and print the result of ((a**b)+(c**d)).\n",
    "\n",
    "a = int(input('Enter the Number a: '))\n",
    "b = int(input('Enter the Number b: '))\n",
    "c = int(input('Enter the Number c: '))\n",
    "d = int(input('Enter the Number d: '))\n",
    "\n",
    "print(a**b + c**d)"
   ]
  },
  {
   "cell_type": "code",
   "execution_count": 10,
   "id": "92e92564",
   "metadata": {},
   "outputs": [
    {
     "name": "stdout",
     "output_type": "stream",
     "text": [
      "Enter Number of Entries: 4\n",
      "9\n",
      "29\n",
      "7\n",
      "27\n",
      "4710194409608608369201743232\n"
     ]
    }
   ],
   "source": [
    "# Integers Come in all sizes\n",
    "# Read four numbers, a, b, c, and d, and print the result of ((a**b)+(c**d)).\n",
    "\n",
    "n = int(input('Enter Number of Entries: '))\n",
    "a, b, c, d = [int(input()) for i in range(n)]\n",
    "print(pow(a, b) + pow(c, d))"
   ]
  },
  {
   "cell_type": "markdown",
   "id": "4d37c1e8",
   "metadata": {},
   "source": [
    "#### Q7. Answer"
   ]
  },
  {
   "cell_type": "code",
   "execution_count": 11,
   "id": "6116560f",
   "metadata": {},
   "outputs": [
    {
     "name": "stdout",
     "output_type": "stream",
     "text": [
      "Enter the Number:5\n",
      " \n",
      "1  \n",
      "2 2  \n",
      "3 3 3  \n",
      "4 4 4 4  \n"
     ]
    }
   ],
   "source": [
    "# Triangle Quest\n",
    "\n",
    "height = int(input('Enter the Number:' ))\n",
    "for num in range(height):\n",
    "    for i in range(num):\n",
    "        print(num, end = ' ')\n",
    "    print(' ')"
   ]
  },
  {
   "cell_type": "code",
   "execution_count": 12,
   "id": "045dec3e",
   "metadata": {},
   "outputs": [
    {
     "name": "stdout",
     "output_type": "stream",
     "text": [
      "Enter the Number: 5\n",
      "1\n",
      "22\n",
      "333\n",
      "4444\n",
      " \n"
     ]
    }
   ],
   "source": [
    "# Triangle Quest\n",
    "\n",
    "height = int(input('Enter the Number: ' ))\n",
    "for i in range(1, height):\n",
    "    print((10**i//9)*i)\n",
    "print(\" \") "
   ]
  }
 ],
 "metadata": {
  "kernelspec": {
   "display_name": "Python 3 (ipykernel)",
   "language": "python",
   "name": "python3"
  },
  "language_info": {
   "codemirror_mode": {
    "name": "ipython",
    "version": 3
   },
   "file_extension": ".py",
   "mimetype": "text/x-python",
   "name": "python",
   "nbconvert_exporter": "python",
   "pygments_lexer": "ipython3",
   "version": "3.9.7"
  }
 },
 "nbformat": 4,
 "nbformat_minor": 5
}
