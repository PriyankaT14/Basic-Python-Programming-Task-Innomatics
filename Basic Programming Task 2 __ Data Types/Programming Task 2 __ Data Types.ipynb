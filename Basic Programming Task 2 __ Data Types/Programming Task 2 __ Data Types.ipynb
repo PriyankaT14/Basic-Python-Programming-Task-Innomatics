{
 "cells": [
  {
   "cell_type": "markdown",
   "id": "fe4a758c",
   "metadata": {},
   "source": [
    "### Programming Task 1 __ Basic Python Programming"
   ]
  },
  {
   "cell_type": "markdown",
   "id": "137f72d9",
   "metadata": {},
   "source": [
    "#### Q1. Answer"
   ]
  },
  {
   "cell_type": "code",
   "execution_count": 1,
   "id": "9a703edf",
   "metadata": {},
   "outputs": [
    {
     "name": "stdout",
     "output_type": "stream",
     "text": [
      "Enter Number:2\n",
      "Enter Number:2\n",
      "Enter Number:2\n",
      "Enter Number:2\n",
      "[[0, 0, 0], [0, 0, 1], [0, 1, 0], [0, 1, 2], [0, 2, 1], [0, 2, 2], [1, 0, 0], [1, 0, 2], [1, 1, 1], [1, 1, 2], [1, 2, 0], [1, 2, 1], [1, 2, 2], [2, 0, 1], [2, 0, 2], [2, 1, 0], [2, 1, 1], [2, 1, 2], [2, 2, 0], [2, 2, 1], [2, 2, 2]]\n"
     ]
    }
   ],
   "source": [
    "# List Comprehensions\n",
    "\n",
    "x = int(input('Enter Number:' ))\n",
    "y = int(input('Enter Number:' ))\n",
    "z = int(input('Enter Number:' ))\n",
    "n = int(input('Enter Number:' ))\n",
    "\n",
    "list_cmp = [[i, j, k] for i in range(x + 1) for j in range(y + 1) for k in range (z + 1) if i + j + k != n]\n",
    "print(list_cmp)"
   ]
  },
  {
   "cell_type": "markdown",
   "id": "c543e691",
   "metadata": {},
   "source": [
    "#### Q2. Answer"
   ]
  },
  {
   "cell_type": "code",
   "execution_count": 2,
   "id": "121afa29",
   "metadata": {},
   "outputs": [
    {
     "name": "stdout",
     "output_type": "stream",
     "text": [
      "Enter Number of Elements:5\n",
      "Element:2\n",
      "Element:3\n",
      "Element:6\n",
      "Element:6\n",
      "Element:5\n",
      "5\n"
     ]
    }
   ],
   "source": [
    "# Find the Runner-Up Score!\n",
    "\n",
    "def runner_up(array):\n",
    "    scores = set(array)\n",
    "    max_score = max(scores)\n",
    "    scores.remove(max_score)\n",
    "    max_score = max(scores)\n",
    "    return(max_score)\n",
    "\n",
    "# array = [2, 3, 6, 6, 5]\n",
    "array = []\n",
    "n = int(input('Enter Number of Elements:' ))\n",
    "for i in range (0, n):\n",
    "    element = int(input('Element:'))\n",
    "    array.append(element)\n",
    "print(runner_up(array))"
   ]
  },
  {
   "cell_type": "markdown",
   "id": "fedecb60",
   "metadata": {},
   "source": [
    "#### Q3. Answer"
   ]
  },
  {
   "cell_type": "code",
   "execution_count": 3,
   "id": "1b6ee2a3",
   "metadata": {},
   "outputs": [
    {
     "name": "stdout",
     "output_type": "stream",
     "text": [
      "Enter Number of Entries: 5\n",
      "harry\n",
      "37.21\n",
      "berry\n",
      "37.21\n",
      "tina\n",
      "37.2\n",
      "akriti\n",
      "41\n",
      "harsh\n",
      "39\n",
      "Second Lowest Grade:  berry\n",
      "Second Lowest Grade:  harry\n"
     ]
    }
   ],
   "source": [
    "# Nested Lists\n",
    "\n",
    "# python students = [['Harry', 37.21], ['Berry', 37.21], ['Tina', 37.2], ['Akriti', 41], ['Harsh', 39]]\n",
    "\n",
    "List = [];\n",
    "score_list = [];\n",
    "for _ in range(int(input('Enter Number of Entries: '))):\n",
    "    name = input()\n",
    "    score = float(input())  \n",
    "\n",
    "    List.append([name, score])\n",
    "    score_list.append(score)\n",
    "score_set = set(score_list)\n",
    "List1 = sorted(list(score_set))\n",
    "target_score = List1[1]    \n",
    "\n",
    "for i in sorted(List):\n",
    "    if i[1] == target_score:\n",
    "        print('Second Lowest Grade: ', i[0])"
   ]
  },
  {
   "cell_type": "code",
   "execution_count": null,
   "id": "65c7572f",
   "metadata": {},
   "outputs": [],
   "source": [
    "# List_Size = int(input('Enter the Size of List: '))\n",
    "# sub_list = []\n",
    "# List_1 = []\n",
    "# Score_List = []\n",
    "# for i in range(0, List_Size):\n",
    "#     name = sub_list.append(input())\n",
    "#     score = sub_list.append(input())\n",
    "#     List_1.append([name, score])\n",
    "#     sub_list = []\n",
    "# print(List_1)\n",
    "# print(Score_List.append(score))\n",
    "\n",
    "# s = set(Score_List)\n",
    "# l = sorted(list(s))\n",
    "# target_score = l[1]\n",
    "# for i in sorted(List_1):\n",
    "#     if i[1] == target_score:\n",
    "#         print(i[0])"
   ]
  },
  {
   "cell_type": "markdown",
   "id": "16f96d3f",
   "metadata": {},
   "source": [
    "#### Q4. Answer"
   ]
  },
  {
   "cell_type": "code",
   "execution_count": 4,
   "id": "7d81ae0c",
   "metadata": {},
   "outputs": [
    {
     "name": "stdout",
     "output_type": "stream",
     "text": [
      "Enter no of entry: 3\n",
      "Enter key of dictionary: Krishna\n",
      "Enter Number of Elements:3\n",
      "Element:67\n",
      "Element:68\n",
      "Element:69\n",
      "Enter key of dictionary: Arjun\n",
      "Enter Number of Elements:3\n",
      "Element:70\n",
      "Element:98\n",
      "Element:63\n",
      "Enter key of dictionary: Malika\n",
      "Enter Number of Elements:3\n",
      "Element:52\n",
      "Element:56\n",
      "Element:60\n",
      "Enter key of dictionary: Malika\n",
      "{'Malika': 56.0}\n"
     ]
    }
   ],
   "source": [
    "# Finding the Percentage\n",
    "\n",
    "def average_marks(d):\n",
    "    given_name = str(input(\"Enter key of dictionary: \"))\n",
    "    for i in d.keys():\n",
    "        if (i == given_name):\n",
    "            avg_marks = {}\n",
    "            # for i in d.keys():       \n",
    "            avg_marks[i] = sum(d[i])/len(d[i])\n",
    "            return avg_marks\n",
    "                # return d[i]\n",
    "\n",
    "d={}\n",
    "no=int(input(\"Enter no of entry: \"))\n",
    "for i in range(no):\n",
    "    keys = str(input(\"Enter key of dictionary: \"))\n",
    "    # values=eval(input(\"enter values of dictionary:\"))\n",
    "    values = []\n",
    "    n = int(input('Enter Number of Elements:' ))\n",
    "    for i in range (0, n):\n",
    "        element = int(input('Element:'))\n",
    "        values.append(element)\n",
    "        d[keys]=values\n",
    "print(average_marks(d))       \n",
    "\n",
    "# print(d)\n",
    "# print(val)\n",
    "# print(d[i])\n",
    "# print(average_marks(d[i]))\n"
   ]
  },
  {
   "cell_type": "code",
   "execution_count": 5,
   "id": "4e97fc66",
   "metadata": {},
   "outputs": [
    {
     "name": "stdout",
     "output_type": "stream",
     "text": [
      "enter key of dictionary: Malika\n",
      "{'Malika': 56.0}\n"
     ]
    }
   ],
   "source": [
    "# Finding the Percentage\n",
    "\n",
    "def average_score(scores):    \n",
    "    given_name = str(input(\"enter key of dictionary: \"))\n",
    "    for i in scores:\n",
    "        if (i == given_name):\n",
    "            avg_marks = {}\n",
    "            avg_marks[i] = sum(scores[i])/len(scores[i])\n",
    "            return avg_marks\n",
    "\n",
    "scores = {'Krishna' : [67,68,69],'Arjun' : [70,98,63],'Malika' : [52,56,60]}\n",
    "print(average_score(scores))"
   ]
  },
  {
   "cell_type": "markdown",
   "id": "36f1de0b",
   "metadata": {},
   "source": [
    "###### Q5. Answer"
   ]
  },
  {
   "cell_type": "code",
   "execution_count": 6,
   "id": "682d0eef",
   "metadata": {
    "scrolled": true
   },
   "outputs": [
    {
     "name": "stdout",
     "output_type": "stream",
     "text": [
      "12\n",
      "insert 0 5\n",
      "insert 1 10\n",
      "insert 0 6\n",
      "print\n",
      "[6, 5, 10]\n",
      "remove 6\n",
      "append 9\n",
      "append 1\n",
      "sort\n",
      "print\n",
      "[1, 5, 9, 10]\n",
      "pop\n",
      "reverse\n",
      "print\n",
      "[9, 5, 1]\n"
     ]
    }
   ],
   "source": [
    "# Lists\n",
    "\n",
    "N = int(input())\n",
    "l = []\n",
    "for i in range(N):\n",
    "    cmd = input()\n",
    "\n",
    "    if \"insert\" in cmd:\n",
    "       cmd = cmd.split()\n",
    "       l.insert(int(cmd[1]), int(cmd[2])) \n",
    "    if \"print\" in cmd:\n",
    "        print(l)\n",
    "    if \"remove\" in cmd:\n",
    "        cmd = cmd.split()\n",
    "        l.remove(int(cmd[1]))\n",
    "    if \"append\" in cmd:\n",
    "        cmd = cmd.split()\n",
    "        l.append(int(cmd[1]))\n",
    "    if \"sort\" in cmd:\n",
    "        l.sort()\n",
    "    if \"pop\" in cmd:\n",
    "        l.pop()\n",
    "    if \"reverse\" in cmd:\n",
    "        l.reverse()"
   ]
  },
  {
   "cell_type": "markdown",
   "id": "1918ce8c",
   "metadata": {},
   "source": [
    "#### Q6. Answer"
   ]
  },
  {
   "cell_type": "code",
   "execution_count": 7,
   "id": "e34a339e",
   "metadata": {},
   "outputs": [
    {
     "name": "stdout",
     "output_type": "stream",
     "text": [
      "2\n",
      "1 2\n",
      "-3550055125485641917\n"
     ]
    }
   ],
   "source": [
    "# Tuples\n",
    "\n",
    "number = int(input())\n",
    "integer_list = map(int, input().split())\n",
    "my_list = []\n",
    "for i in integer_list:\n",
    "    my_list.append(i)\n",
    "my_tuple = tuple(my_list)\n",
    "print(hash(my_tuple))"
   ]
  },
  {
   "cell_type": "markdown",
   "id": "b1b4442a",
   "metadata": {},
   "source": [
    "#### Q7. Answer"
   ]
  },
  {
   "cell_type": "code",
   "execution_count": 8,
   "id": "8ee419b3",
   "metadata": {},
   "outputs": [
    {
     "name": "stdout",
     "output_type": "stream",
     "text": [
      "169.375\n"
     ]
    }
   ],
   "source": [
    "# Introduction to Sets\n",
    "\n",
    "def avg(array):\n",
    "    average = sum(set(array))/len(set(array))\n",
    "    return ('%.3f' % average)\n",
    "\n",
    "array = [161, 182, 161, 154, 176, 170, 167, 171, 170, 174]\n",
    "print(avg(array))"
   ]
  },
  {
   "cell_type": "markdown",
   "id": "0224b0a6",
   "metadata": {},
   "source": [
    "#### Q8. Answer"
   ]
  },
  {
   "cell_type": "code",
   "execution_count": 9,
   "id": "e76a9b54",
   "metadata": {},
   "outputs": [
    {
     "name": "stdout",
     "output_type": "stream",
     "text": [
      "3 2\n",
      "1 5 3\n",
      "3 1\n",
      "5 7\n",
      "1\n"
     ]
    }
   ],
   "source": [
    "# No Idea!\n",
    "\n",
    "n = input().split(' ')\n",
    "l = ([int(i) for i in input().split(' ')])\n",
    "\n",
    "set_1 = set([int(i) for i in input().split(' ')])\n",
    "set_2 = set([int(i) for i in input().split(' ')])\n",
    "\n",
    "p = 0\n",
    "for i in l:\n",
    "    if i in set_1:\n",
    "        p = p + 1\n",
    "    if i in set_2:\n",
    "        p = p - 1\n",
    "print(p)"
   ]
  },
  {
   "cell_type": "markdown",
   "id": "278e29d7",
   "metadata": {},
   "source": [
    "#### Q9. Answer"
   ]
  },
  {
   "cell_type": "code",
   "execution_count": 11,
   "id": "ae24ec55",
   "metadata": {},
   "outputs": [
    {
     "name": "stdout",
     "output_type": "stream",
     "text": [
      "Number of Elements: 4\n",
      "2 4 5 9\n",
      "Number of Elements: 4\n",
      "2 4 11 12\n",
      "Differnce_Union: \n",
      "5\n",
      "9\n",
      "11\n",
      "12\n"
     ]
    }
   ],
   "source": [
    "# Symmetric Difference\n",
    "\n",
    "a = int(input('Number of Elements: '))\n",
    "M = set(map(int, input().split()))\n",
    "b = int(input('Number of Elements: '))\n",
    "N = set(map(int, input().split()))\n",
    "\n",
    "diff_M = M.difference(N)\n",
    "diff_N = N.difference(M)\n",
    "diff_Union = diff_M.union(diff_N)\n",
    "print('Differnce_Union: ', *sorted(list(diff_Union)), sep='\\n')"
   ]
  },
  {
   "cell_type": "markdown",
   "id": "8788465d",
   "metadata": {},
   "source": [
    "#### Q10. Answer"
   ]
  },
  {
   "cell_type": "code",
   "execution_count": 12,
   "id": "ea61e70e",
   "metadata": {},
   "outputs": [
    {
     "name": "stdout",
     "output_type": "stream",
     "text": [
      "Enter Number:7\n",
      "Country Name: UK\n",
      "Country Name: China\n",
      "Country Name: USA\n",
      "Country Name: France\n",
      "Country Name: New Zealand\n",
      "Country Name: UK\n",
      "Country Name: France\n",
      "Total Country:  5\n"
     ]
    }
   ],
   "source": [
    "# Set.add()\n",
    "\n",
    "number = int(input('Enter Number:' ))\n",
    "country = set([])\n",
    "for i in range(number):\n",
    "    country.add(input('Country Name: ')) # add country name\n",
    "print('Total Country: ', len(list(country)))"
   ]
  },
  {
   "cell_type": "markdown",
   "id": "da0e9ac9",
   "metadata": {},
   "source": [
    "#### Q11. Answer"
   ]
  },
  {
   "cell_type": "code",
   "execution_count": 13,
   "id": "0306b9d9",
   "metadata": {},
   "outputs": [
    {
     "name": "stdout",
     "output_type": "stream",
     "text": [
      "Enter Number of Integers: 9\n",
      "Enter Elements: 1 2 3 4 5 6 7 8 9\n",
      "Enter Number of Commands: 10\n",
      "pop\n",
      "remove 9\n",
      "discard 9\n",
      "discard 8\n",
      "remove 7\n",
      "pop\n",
      "discard 6\n",
      "remove 5\n",
      "pop\n",
      "discard 5\n",
      "4\n"
     ]
    }
   ],
   "source": [
    "# Set.discard(), .remove() and pop()\n",
    "\n",
    "Integers = int(input('Enter Number of Integers: '))\n",
    "set_data = set(map(int, input('Enter Elements: ').split()))\n",
    "commands = int(input('Enter Number of Commands: '))\n",
    "\n",
    "for i in range(commands):\n",
    "    operation = input().split()\n",
    "    if operation[0] == 'remove':\n",
    "        set_data.remove(int(operation[1]))\n",
    "    elif operation[0] == 'discard':\n",
    "        set_data.discard(int(operation[1]))\n",
    "    else:\n",
    "        set_data.pop()\n",
    "print(sum(set_data))"
   ]
  },
  {
   "cell_type": "markdown",
   "id": "2ab35063",
   "metadata": {},
   "source": [
    "#### Q12. Answer"
   ]
  },
  {
   "cell_type": "code",
   "execution_count": 14,
   "id": "c70f5c44",
   "metadata": {},
   "outputs": [
    {
     "name": "stdout",
     "output_type": "stream",
     "text": [
      "Enter Number of Elements: 9\n",
      "Set Elements: 1 2 3 4 5 6 7 8 9\n",
      "Enter Number of Elements: 9\n",
      "Set Elements: 10 1 2 3 11 21 55 6 8\n",
      "13\n"
     ]
    }
   ],
   "source": [
    "# Set.union() Operation\n",
    "\n",
    "n = int(input('Enter Number of Elements: '))\n",
    "Set_1 = set(map(int, input('Set Elements: ').split()))\n",
    "b = int(input('Enter Number of Elements: '))\n",
    "Set_2 = set(map(int, input('Set Elements: ').split()))\n",
    "\n",
    "Union_Set = Set_1.union(Set_2)\n",
    "print(len(Union_Set))"
   ]
  },
  {
   "cell_type": "markdown",
   "id": "4d37c1e8",
   "metadata": {},
   "source": [
    "#### Q13. Answer"
   ]
  },
  {
   "cell_type": "code",
   "execution_count": 15,
   "id": "045dec3e",
   "metadata": {},
   "outputs": [
    {
     "name": "stdout",
     "output_type": "stream",
     "text": [
      "Enter Number of Elements: 9\n",
      "Set Elements: 1 2 3 4 5 6 7 8 9\n",
      "Enter Number of Elements: 9\n",
      "Set Elements: 10 1 2 3 11 21 55 6 8\n",
      "5\n"
     ]
    }
   ],
   "source": [
    "# Set.intersection() Operation\n",
    "\n",
    "n = int(input('Enter Number of Elements: '))\n",
    "Set_1 = set(map(int, input('Set Elements: ').split()))\n",
    "b = int(input('Enter Number of Elements: '))\n",
    "Set_2 = set(map(int, input('Set Elements: ').split()))\n",
    "\n",
    "Intersection_Set = Set_1.intersection(Set_2)\n",
    "print(len(Intersection_Set))"
   ]
  },
  {
   "cell_type": "markdown",
   "id": "c90c6ffc",
   "metadata": {},
   "source": [
    "#### Q14. Answer"
   ]
  },
  {
   "cell_type": "code",
   "execution_count": 16,
   "id": "818d7ca2",
   "metadata": {},
   "outputs": [
    {
     "name": "stdout",
     "output_type": "stream",
     "text": [
      "Enter Number of Elements: 9\n",
      "Set Elements: 1 2 3 4 5 6 7 8 9\n",
      "Enter Number of Elements: 9\n",
      "Set Elements: 10 1 2 3 11 21 55 6 8\n",
      "4\n"
     ]
    }
   ],
   "source": [
    "# Set.difference() Operation\n",
    "\n",
    "n = int(input('Enter Number of Elements: '))\n",
    "Set_1 = set(map(int, input('Set Elements: ').split()))\n",
    "b = int(input('Enter Number of Elements: '))\n",
    "Set_2 = set(map(int, input('Set Elements: ').split()))\n",
    "\n",
    "Diff_Set = Set_1.difference(Set_2)\n",
    "print(len(Diff_Set))"
   ]
  },
  {
   "cell_type": "markdown",
   "id": "2d6ce0bf",
   "metadata": {},
   "source": [
    "#### Q15. Answer"
   ]
  },
  {
   "cell_type": "code",
   "execution_count": 17,
   "id": "d6de98db",
   "metadata": {},
   "outputs": [
    {
     "name": "stdout",
     "output_type": "stream",
     "text": [
      "Enter Number of Elements: 9\n",
      "Set Elements: 1 2 3 4 5 6 7 8 9\n",
      "Enter Number of Elements: 9\n",
      "Set Elements: 10 1 2 3 11 21 55 6 8\n",
      "8\n"
     ]
    }
   ],
   "source": [
    "# Set.symmetric_difference() Operation\n",
    "\n",
    "n = int(input('Enter Number of Elements: '))\n",
    "Set_1 = set(map(int, input('Set Elements: ').split()))\n",
    "b = int(input('Enter Number of Elements: '))\n",
    "Set_2 = set(map(int, input('Set Elements: ').split()))\n",
    "\n",
    "Sym_Diff_Set = Set_1.symmetric_difference(Set_2)\n",
    "print(len(Sym_Diff_Set))"
   ]
  },
  {
   "cell_type": "markdown",
   "id": "bcae5af2",
   "metadata": {},
   "source": [
    "#### Q16. Answer"
   ]
  },
  {
   "cell_type": "code",
   "execution_count": 18,
   "id": "ac3c40cd",
   "metadata": {},
   "outputs": [
    {
     "name": "stdout",
     "output_type": "stream",
     "text": [
      "Enter Number of Elements: 16\n",
      "Enter Elements: 1 2 3 4 5 6 7 8 9 10 11 12 13 14 24 52\n",
      "Enter Number of Integers: 4\n",
      "intersection_update 10\n",
      "2 3 5 6 8 9 1 4 7 11\n",
      "update 2\n",
      "55 66\n",
      "symmetric_difference_update 5\n",
      "22 7 35 62 58\n",
      "difference_update 7\n",
      "11 22 35 55 58 62 66\n",
      "38\n"
     ]
    }
   ],
   "source": [
    "# Set Mutation\n",
    "\n",
    "Elements_A = int(input('Enter Number of Elements: '))\n",
    "set_A = set(map(int, input('Enter Elements: ').split()))\n",
    "Integers_N = int(input('Enter Number of Integers: '))\n",
    "\n",
    "set_dict = {}\n",
    "for i in range(Integers_N):\n",
    "    query = input()\n",
    "    elements = set(map(int, input().split()))\n",
    "    set_dict[query] = elements\n",
    "\n",
    "for k, v in set_dict.items():\n",
    "    operation, len_set = k.split()\n",
    "    len_set = int(len_set)\n",
    "    if operation == 'intersection_update':\n",
    "        set_A.intersection_update(v)\n",
    "    elif operation == 'update':\n",
    "        set_A.update(v)\n",
    "    elif operation == 'symmetric_difference_update':\n",
    "        set_A.symmetric_difference_update(v)\n",
    "    elif operation == 'difference_update':\n",
    "        set_A.difference_update(v)\n",
    "        \n",
    "print(sum(set_A))"
   ]
  },
  {
   "cell_type": "markdown",
   "id": "4e165351",
   "metadata": {},
   "source": [
    "#### Q17. Answer"
   ]
  },
  {
   "cell_type": "code",
   "execution_count": 19,
   "id": "b91aa21d",
   "metadata": {},
   "outputs": [
    {
     "name": "stdout",
     "output_type": "stream",
     "text": [
      "Enter Number of time Repeat: 5\n",
      "Enter Elements: 1 2 3 6 5 4 4 2 5 3 6 1 6 5 3 2 4 1 2 5 1 4 3 6 8 4 3 1 5 6 2\n",
      "8\n"
     ]
    }
   ],
   "source": [
    "# The Captain's Room\n",
    "\n",
    "Count = dict()\n",
    "Repeat = int(input('Enter Number of time Repeat: '))\n",
    "Elements = input('Enter Elements: ').split()\n",
    "for i in Elements:\n",
    "    if i not in Count:\n",
    "        Count[i] = 1\n",
    "    else:\n",
    "        Count[i] = Count[i] + 1\n",
    "for i in Count:\n",
    "    if Count[i] == 1:\n",
    "        print(i)"
   ]
  },
  {
   "cell_type": "markdown",
   "id": "03986f56",
   "metadata": {},
   "source": [
    "#### Q18. Answer"
   ]
  },
  {
   "cell_type": "code",
   "execution_count": 22,
   "id": "cbda25ca",
   "metadata": {},
   "outputs": [
    {
     "name": "stdout",
     "output_type": "stream",
     "text": [
      "Enter Number of TestCases: 3\n",
      "Enter Number of Elements: 5\n",
      "Set Elements: 1 2 3 5 6\n",
      "Enter Number of Elements: 9\n",
      "Set Elements: 9 8 5 6 3 2 1 4 7\n",
      "Enter Number of TestCases: 3\n",
      "Enter Number of Elements: 5\n",
      "Set Elements: 1 2 3 5 6\n",
      "Enter Number of Elements: 9\n",
      "Set Elements: 9 8 5 6 3 2 1 4 7\n",
      "True\n",
      "Enter Number of Elements: 1\n",
      "Set Elements: 2\n",
      "Enter Number of Elements: 5\n",
      "Set Elements:  3 6 5 4 1\n",
      "False\n",
      "Enter Number of Elements: 7\n",
      "Set Elements: 1 2 3 5 6 8 9\n",
      "Enter Number of Elements: 3\n",
      "Set Elements: 9 8 2\n",
      "False\n"
     ]
    }
   ],
   "source": [
    "# Check Subset\n",
    "\n",
    "def is_subset(Set_A, Set_B):\n",
    "    T = int(input('Enter Number of TestCases: '))\n",
    "    for i in range(T): \n",
    "        a = int(input('Enter Number of Elements: '))\n",
    "        Set_A = set(map(int, input('Set Elements: ').split()))\n",
    "        b = int(input('Enter Number of Elements: '))\n",
    "        Set_B = set(map(int, input('Set Elements: ').split()))\n",
    "        if Set_A.issubset(Set_B):\n",
    "            print('True')\n",
    "        else:\n",
    "            print('False')\n",
    "            \n",
    "T = int(input('Enter Number of TestCases: '))\n",
    "a = int(input('Enter Number of Elements: '))\n",
    "Set_A = set(map(int, input('Set Elements: ').split()))\n",
    "b = int(input('Enter Number of Elements: '))\n",
    "Set_B = set(map(int, input('Set Elements: ').split()))\n",
    "is_subset(Set_A, Set_B)"
   ]
  },
  {
   "cell_type": "markdown",
   "id": "8e7f3a3e",
   "metadata": {},
   "source": [
    "#### Q19. Answer"
   ]
  },
  {
   "cell_type": "code",
   "execution_count": 23,
   "id": "b0bea7e1",
   "metadata": {},
   "outputs": [
    {
     "name": "stdout",
     "output_type": "stream",
     "text": [
      "Set Elements: 1 2 3 4 5 6 7 8 9 10 11 12 23 45 84 78\n",
      "2\n",
      "1 2 3 4 5\n",
      "False\n",
      "100 11 12\n",
      "False\n"
     ]
    }
   ],
   "source": [
    "# Check Strict Superset\n",
    "\n",
    "A = set(map(int, input('Set Elements: ').split()))\n",
    "All_Set_N = int(input())\n",
    "for i in range(All_Set_N):\n",
    "    if (A > set(input().split())):\n",
    "        print('True')\n",
    "    else:\n",
    "        print('False')"
   ]
  }
 ],
 "metadata": {
  "kernelspec": {
   "display_name": "Python 3 (ipykernel)",
   "language": "python",
   "name": "python3"
  },
  "language_info": {
   "codemirror_mode": {
    "name": "ipython",
    "version": 3
   },
   "file_extension": ".py",
   "mimetype": "text/x-python",
   "name": "python",
   "nbconvert_exporter": "python",
   "pygments_lexer": "ipython3",
   "version": "3.9.7"
  }
 },
 "nbformat": 4,
 "nbformat_minor": 5
}
