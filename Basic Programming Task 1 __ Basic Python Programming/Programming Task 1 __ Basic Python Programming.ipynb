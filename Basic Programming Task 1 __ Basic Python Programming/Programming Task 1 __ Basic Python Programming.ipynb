{
 "cells": [
  {
   "cell_type": "markdown",
   "id": "fe4a758c",
   "metadata": {},
   "source": [
    "### Programming Task 1 __ Basic Python Programming"
   ]
  },
  {
   "cell_type": "markdown",
   "id": "b1b4442a",
   "metadata": {},
   "source": [
    "#### Q1. Answer"
   ]
  },
  {
   "cell_type": "code",
   "execution_count": 1,
   "id": "8ee419b3",
   "metadata": {},
   "outputs": [
    {
     "name": "stdout",
     "output_type": "stream",
     "text": [
      "Hello, World!\n"
     ]
    }
   ],
   "source": [
    "# Print Hello, World!\n",
    "\n",
    "print('Hello, World!')"
   ]
  },
  {
   "cell_type": "markdown",
   "id": "0224b0a6",
   "metadata": {},
   "source": [
    "#### Q2. Answer"
   ]
  },
  {
   "cell_type": "code",
   "execution_count": 2,
   "id": "e76a9b54",
   "metadata": {},
   "outputs": [
    {
     "name": "stdout",
     "output_type": "stream",
     "text": [
      "Enter the Number:6\n",
      "Weird\n"
     ]
    }
   ],
   "source": [
    "# Given an integer, n, perform the following conditional actions:\n",
    "# If n is odd, print Weird\n",
    "# If n is even and in the inclusive range of 2 to 5, print Not Weird\n",
    "# If n is even and in the inclusive range of 6 to 20, print Weird\n",
    "# If n is even and greater than 20, print Not Weird\n",
    "\n",
    "n = int(input('Enter the Number:' ))\n",
    "if n % 2 == 1:\n",
    "    print('Weird')\n",
    "else:\n",
    "    if n >= 2 and n <= 5:\n",
    "        print('Not Weird')\n",
    "    if n >= 6 and n <= 20:\n",
    "        print('Weird')\n",
    "    if n > 20:\n",
    "        print('Not Weird')"
   ]
  },
  {
   "cell_type": "markdown",
   "id": "278e29d7",
   "metadata": {},
   "source": [
    "#### Q3. Answer"
   ]
  },
  {
   "cell_type": "code",
   "execution_count": 3,
   "id": "ae24ec55",
   "metadata": {},
   "outputs": [
    {
     "name": "stdout",
     "output_type": "stream",
     "text": [
      "Enter Number a:6\n",
      "Enter Number b:6\n",
      "Sum of a and b: 12\n",
      "Difference of a and b: 0\n",
      "Product of a and b: 36\n"
     ]
    }
   ],
   "source": [
    "# The provided code stub reads two integers, a and b. Add code to print three lines where:\n",
    "# The first line contains the sum of the two numbers.\n",
    "# The second line contains the difference of the two numbers (first - second).\n",
    "# The third line contains the product of the two numbers.\n",
    "\n",
    "a = int(input('Enter Number a:' ))\n",
    "b = int(input('Enter Number b:' ))\n",
    "print('Sum of a and b:', a + b)\n",
    "print('Difference of a and b:', a - b)\n",
    "print('Product of a and b:', a * b)"
   ]
  },
  {
   "cell_type": "markdown",
   "id": "8788465d",
   "metadata": {},
   "source": [
    "#### Q4. Answer"
   ]
  },
  {
   "cell_type": "code",
   "execution_count": 4,
   "id": "ea61e70e",
   "metadata": {},
   "outputs": [
    {
     "name": "stdout",
     "output_type": "stream",
     "text": [
      "Enter Number a:7\n",
      "Enter Number b:3\n",
      "Integer Division of a and b: 2\n",
      "Float Division of a and b: 2.3333333333333335\n"
     ]
    }
   ],
   "source": [
    "# The provided code stub reads two integers, a and b.\n",
    "# Add logic to print two lines. The first line should contain the result of integer division, a//b. The second line should contain the result of float division, a/b.\n",
    "# No rounding or formatting is necessary.\n",
    "\n",
    "a = int(input('Enter Number a:' ))\n",
    "b = int(input('Enter Number b:' ))\n",
    "print('Integer Division of a and b:', a // b)\n",
    "print('Float Division of a and b:', a / b)"
   ]
  },
  {
   "cell_type": "markdown",
   "id": "da0e9ac9",
   "metadata": {},
   "source": [
    "#### Q5. Answer"
   ]
  },
  {
   "cell_type": "code",
   "execution_count": 5,
   "id": "0306b9d9",
   "metadata": {},
   "outputs": [
    {
     "name": "stdout",
     "output_type": "stream",
     "text": [
      "Enter Non-Negative Integer:-7\n",
      "Enter Non-Negative Integer:7\n",
      "0\n",
      "1\n",
      "4\n",
      "9\n",
      "16\n",
      "25\n",
      "36\n"
     ]
    }
   ],
   "source": [
    "# The provided code stub reads and integer, n. For all non-negative integers i < n, print i ** 2.\n",
    "\n",
    "n = 0\n",
    "while n <= 0:\n",
    "    n = int(input('Enter Non-Negative Integer:' ))\n",
    "for n in range(n):\n",
    "    print(n ** 2)"
   ]
  },
  {
   "cell_type": "markdown",
   "id": "2ab35063",
   "metadata": {},
   "source": [
    "#### Q6. Answer"
   ]
  },
  {
   "cell_type": "code",
   "execution_count": 6,
   "id": "c70f5c44",
   "metadata": {},
   "outputs": [
    {
     "name": "stdout",
     "output_type": "stream",
     "text": [
      "Enter the Year:1988\n",
      "True\n"
     ]
    }
   ],
   "source": [
    "# Leap Year\n",
    "\n",
    "def Leap_Year(Year):\n",
    "    if Year % 4 != 0:\n",
    "        return False\n",
    "    elif Year % 400 == 0:\n",
    "        return True\n",
    "    elif Year % 100 == 0:\n",
    "        return False\n",
    "    else:\n",
    "        return True\n",
    "\n",
    "Year = int(input('Enter the Year:'))\n",
    "print(Leap_Year(Year))"
   ]
  },
  {
   "cell_type": "markdown",
   "id": "4d37c1e8",
   "metadata": {},
   "source": [
    "#### Q7. Answer"
   ]
  },
  {
   "cell_type": "code",
   "execution_count": 7,
   "id": "045dec3e",
   "metadata": {},
   "outputs": [
    {
     "name": "stdout",
     "output_type": "stream",
     "text": [
      "Enter the Number:-7\n",
      "Enter the Number:7\n",
      "1234567"
     ]
    }
   ],
   "source": [
    "# Print the list of integers from 1 through n as a string, without spaces.\n",
    "\n",
    "n = 0\n",
    "while n <= 0:\n",
    "    n = int(input('Enter the Number:' ))\n",
    "for i in range(1, n+1):\n",
    "    print(i, end = '')"
   ]
  }
 ],
 "metadata": {
  "kernelspec": {
   "display_name": "Python 3 (ipykernel)",
   "language": "python",
   "name": "python3"
  },
  "language_info": {
   "codemirror_mode": {
    "name": "ipython",
    "version": 3
   },
   "file_extension": ".py",
   "mimetype": "text/x-python",
   "name": "python",
   "nbconvert_exporter": "python",
   "pygments_lexer": "ipython3",
   "version": "3.9.7"
  }
 },
 "nbformat": 4,
 "nbformat_minor": 5
}
