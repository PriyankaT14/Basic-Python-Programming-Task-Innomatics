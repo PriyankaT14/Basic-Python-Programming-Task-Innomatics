{
 "cells": [
  {
   "cell_type": "markdown",
   "id": "fe4a758c",
   "metadata": {},
   "source": [
    "### Basic Programming Task 5 __ RegEx"
   ]
  },
  {
   "cell_type": "markdown",
   "id": "137f72d9",
   "metadata": {},
   "source": [
    "#### Q1. Answer"
   ]
  },
  {
   "cell_type": "code",
   "execution_count": 1,
   "id": "9a703edf",
   "metadata": {},
   "outputs": [
    {
     "name": "stdout",
     "output_type": "stream",
     "text": [
      "Enter Number of Test Cases: 4\n",
      "Enter Input: 4.0O0\n",
      "Enter Input: -1.00\n",
      "Enter Input: +4.54\n",
      "Enter Input: SomeRandomStuff\n",
      "False\n",
      "True\n",
      "True\n",
      "False\n"
     ]
    }
   ],
   "source": [
    "# Detect FLoating Point Number\n",
    "\n",
    "def floating_number():\n",
    "    L = []\n",
    "    Test_cases = int(input('Enter Number of Test Cases: '))\n",
    "    for i in range(Test_cases):\n",
    "        N = input('Enter Input: ')\n",
    "        if N == 0:\n",
    "            L.append('False')\n",
    "        else:\n",
    "            try:\n",
    "                if float(N) and N != 0:\n",
    "                    L.append('True')\n",
    "                else:\n",
    "                    L.append('False')\n",
    "            except:\n",
    "                L.append('False')\n",
    "                \n",
    "    print('\\n'.join(L))\n",
    "          \n",
    "floating_number()"
   ]
  },
  {
   "cell_type": "markdown",
   "id": "c543e691",
   "metadata": {},
   "source": [
    "#### Q2. Answer"
   ]
  },
  {
   "cell_type": "code",
   "execution_count": 2,
   "id": "121afa29",
   "metadata": {},
   "outputs": [
    {
     "name": "stdout",
     "output_type": "stream",
     "text": [
      "Enter Number of Elements:100,000,000.000\n",
      "100\n",
      "000\n",
      "000\n",
      "000\n"
     ]
    }
   ],
   "source": [
    "# Re.split()\n",
    "\n",
    "import re\n",
    "\n",
    "regex_pattern = r\"[\\,\\.]\"\n",
    "\n",
    "string = input('Enter Number of Elements:' )\n",
    "\n",
    "print('\\n'.join(re.split(regex_pattern,string)))"
   ]
  },
  {
   "cell_type": "markdown",
   "id": "fedecb60",
   "metadata": {},
   "source": [
    "#### Q3. Answer"
   ]
  },
  {
   "cell_type": "code",
   "execution_count": 3,
   "id": "1b6ee2a3",
   "metadata": {},
   "outputs": [
    {
     "name": "stdout",
     "output_type": "stream",
     "text": [
      "12345678910111213141516171820212223\n",
      "1\n"
     ]
    }
   ],
   "source": [
    "# Group(), Groups() & Groupdict()\n",
    "\n",
    "import re\n",
    "\n",
    "m = re.search(r'([a-zA-Z0-9])\\1', input()) # 'username@hackerrank.com'\n",
    "if m:\n",
    "    print(m.group(1))\n",
    "else:\n",
    "    print(-1)"
   ]
  },
  {
   "cell_type": "markdown",
   "id": "16f96d3f",
   "metadata": {},
   "source": [
    "#### Q4. Answer"
   ]
  },
  {
   "cell_type": "code",
   "execution_count": 4,
   "id": "7d81ae0c",
   "metadata": {},
   "outputs": [
    {
     "name": "stdout",
     "output_type": "stream",
     "text": [
      "Enter String: rabcdeefgyYhFjkIoomnpOeorteeeeet\n",
      "ee\n",
      "Ioo\n",
      "Oeo\n",
      "eeeee\n"
     ]
    }
   ],
   "source": [
    "# Re.findall() & Re.finditer()\n",
    "\n",
    "import re\n",
    "string = input('Enter String: ')\n",
    "vowels = '[AEIOUaeiou]{2,}'\n",
    "consonant = '[QWRTYPSDFGHJKLZXCVBNMqwrtypsdfghjklzxcvbnm]'\n",
    "pattern=re.compile(rf'(?<={consonant}){vowels}(?={consonant})')\n",
    "result = pattern.findall(string)\n",
    "print(*result if len(result) > 0 else [-1], sep='\\n')"
   ]
  },
  {
   "cell_type": "markdown",
   "id": "36f1de0b",
   "metadata": {},
   "source": [
    "###### Q5. Answer"
   ]
  },
  {
   "cell_type": "code",
   "execution_count": 5,
   "id": "682d0eef",
   "metadata": {},
   "outputs": [
    {
     "name": "stdout",
     "output_type": "stream",
     "text": [
      "Enter String s: aaadaa\n",
      "Enter String k: aa\n",
      "(0, 1)\n",
      "(1, 2)\n",
      "(4, 5)\n"
     ]
    }
   ],
   "source": [
    "# Re.start() & Re.end()\n",
    "# Start and end indices\n",
    "\n",
    "import re\n",
    "string_S = input('Enter String s: ')\n",
    "string_k = input('Enter String k: ')\n",
    "pattern = re.finditer(f'(?=({string_k}))',string_S)\n",
    "lst = [(x.start(),x.end()+len(string_k)-1) for x in pattern]\n",
    "if lst:\n",
    "    print(*lst,sep='\\n')\n",
    "else:\n",
    "    print((-1,-1))"
   ]
  },
  {
   "cell_type": "markdown",
   "id": "1918ce8c",
   "metadata": {},
   "source": [
    "#### Q6. Answer"
   ]
  },
  {
   "cell_type": "code",
   "execution_count": 6,
   "id": "e34a339e",
   "metadata": {
    "scrolled": true
   },
   "outputs": [],
   "source": [
    "# Regex Substitution\n",
    "# && → and\n",
    "# || → or\n",
    "\n",
    "# import re\n",
    "\n",
    "# def regex_substitution(match_obj):\n",
    "#     if match_obj.group(0) == '&&':\n",
    "#         return 'and'\n",
    "#     elif match_obj.group(0) == '||':\n",
    "#         return 'or'\n",
    "# lines = int(input().rstrip())\n",
    "\n",
    "# for i in range(lines):\n",
    "#     input_lines = input()\n",
    "# print(re.sub(r'(?<=\\input_lines)(&&|\\|\\|)(?=\\input_lines)', regex_substitution, input_lines))"
   ]
  },
  {
   "cell_type": "code",
   "execution_count": null,
   "id": "2bb03a9a",
   "metadata": {},
   "outputs": [],
   "source": [
    "# 11\n",
    "# a = 1;\n",
    "# b = input();\n",
    "# if a + b > 0 && a - b < 0:\n",
    "#     start()\n",
    "# elif a*b > 10 || a/b < 1:\n",
    "#     stop()\n",
    "# print set(list(a)) | set(list(b))\n",
    "#Note do not change &&& or ||| or & or |\n",
    "#Only change those '&&' which have space on both sides.\n",
    "#Only change those '|| which have space on both sides."
   ]
  },
  {
   "cell_type": "markdown",
   "id": "b1b4442a",
   "metadata": {},
   "source": [
    "#### Q7. Answer"
   ]
  },
  {
   "cell_type": "code",
   "execution_count": 7,
   "id": "8ee419b3",
   "metadata": {},
   "outputs": [
    {
     "name": "stdout",
     "output_type": "stream",
     "text": [
      "Enter Roman Input: CDXXI\n",
      "True\n"
     ]
    }
   ],
   "source": [
    "# Validating Roman Numerals\n",
    "\n",
    "import re\n",
    "\n",
    "roman_num_reg_pattern = r\"^M{0,3}(CM|CD|D?C{0,3})(XC|XL|L?X{0,3})(IX|IV|V?I{0,3})$\"\n",
    "match_obj = re.match(roman_num_reg_pattern, input('Enter Roman Input: '))\n",
    "print(str(bool(match_obj)))"
   ]
  },
  {
   "cell_type": "code",
   "execution_count": null,
   "id": "046c441c",
   "metadata": {},
   "outputs": [],
   "source": [
    "# M{0,3} specifies the thousands section and basically restrains it to between 0 and 4000\n",
    "# (CM|CD|D?C{0,3}) is for the hundreds section.\n",
    "# (XC|XL|L?X{0,3}) is for the tens place.\n",
    "# Finally, (IX|IV|V?I{0,3}) is for the units section."
   ]
  },
  {
   "cell_type": "markdown",
   "id": "278e29d7",
   "metadata": {},
   "source": [
    "#### Q8. Answer"
   ]
  },
  {
   "cell_type": "code",
   "execution_count": 8,
   "id": "e76a9b54",
   "metadata": {},
   "outputs": [
    {
     "name": "stdout",
     "output_type": "stream",
     "text": [
      "Enter Number of Inputs: 2\n",
      "Enter Phone Number: 9587456281\n",
      "YES\n",
      "Enter Phone Number: 1252478965\n",
      "NO\n"
     ]
    }
   ],
   "source": [
    "# Validating Phone numbers\n",
    "\n",
    "import re\n",
    "\n",
    "# Numbers = int(input())\n",
    "for i in range(0, int(input('Enter Number of Inputs: '))):\n",
    "    phone_number = []\n",
    "    phone_number.append(input('Enter Phone Number: '))\n",
    "    for n in phone_number:\n",
    "        if len(n)==10:\n",
    "            if re.search('[789][0-9]{9}',n):\n",
    "                print(\"YES\")\n",
    "            else:\n",
    "                print(\"NO\")\n",
    "        else:\n",
    "            print(\"NO\")\n",
    "            \n",
    "# if re.match(r'[789]\\d{9}$', phone_number):\n",
    "# print('YES')\n",
    "# else:\n",
    "# print('NO')"
   ]
  },
  {
   "cell_type": "markdown",
   "id": "e6e850b4",
   "metadata": {},
   "source": [
    "#### Q9. Answer"
   ]
  },
  {
   "cell_type": "code",
   "execution_count": 9,
   "id": "50bfc887",
   "metadata": {},
   "outputs": [
    {
     "name": "stdout",
     "output_type": "stream",
     "text": [
      "Enter Number of Inputs: 2\n",
      "Enter: DEXTER <dexter@hotmail.com>\n",
      "DEXTER <dexter@hotmail.com>\n",
      "Enter: VIRUS <virus!@variable.:p>\n"
     ]
    }
   ],
   "source": [
    "# Validating and Parsing Email Addresses\n",
    "\n",
    "import email.utils\n",
    "import re\n",
    "\n",
    "# Numbers = int(input())\n",
    "for i in range(0, int(input('Enter Number of Inputs: '))):\n",
    "    parser = email.utils.parseaddr(input('Enter: '))\n",
    "    email_pattern = r\"^[a-z][\\w\\-.]*@[a-z]+\\.[a-z]{1,3}$\"\n",
    "    match = re.search(email_pattern, parser[1], re.I)\n",
    "    if match:\n",
    "        print(email.utils.formataddr(parser))"
   ]
  },
  {
   "cell_type": "markdown",
   "id": "8788465d",
   "metadata": {},
   "source": [
    "#### Q10. Answer"
   ]
  },
  {
   "cell_type": "code",
   "execution_count": 10,
   "id": "ea61e70e",
   "metadata": {},
   "outputs": [
    {
     "name": "stdout",
     "output_type": "stream",
     "text": [
      "Enter Number of Inputs: 4\n",
      "#BED\n",
      "{     color: #FfFdF8; background-color:#aef;     font-size: 123px;     background: -webkit-linear-gradient(top, #f9f9f9, #fff); }\n",
      "Output #FfFdF8\n",
      "Output #aef\n",
      "Output #f9f9f9\n",
      "Output #fff\n",
      "#Cab\n",
      "{     background-color: #ABC;     border: 2px dashed #fff; }\n",
      "Output #ABC\n",
      "Output #fff\n"
     ]
    }
   ],
   "source": [
    "# Hex Color Code\n",
    "\n",
    "import re\n",
    "for i in range(int(input('Enter Number of Inputs: '))):\n",
    "    s=input()\n",
    "    c=re.findall(r\"#[0-9a-fA-F]{6}|#[0-9a-fA-F]{3}\",s)\n",
    "    for i in c:\n",
    "        if(len(c)!=0 and s[0]!='#'):\n",
    "            print('Output', i)"
   ]
  },
  {
   "cell_type": "markdown",
   "id": "da0e9ac9",
   "metadata": {},
   "source": [
    "#### Q11. Answer"
   ]
  },
  {
   "cell_type": "code",
   "execution_count": 11,
   "id": "0306b9d9",
   "metadata": {},
   "outputs": [],
   "source": [
    "# HTML Parser-Part 1\n"
   ]
  },
  {
   "cell_type": "markdown",
   "id": "2ab35063",
   "metadata": {},
   "source": [
    "#### Q12. Answer"
   ]
  },
  {
   "cell_type": "code",
   "execution_count": 12,
   "id": "c70f5c44",
   "metadata": {},
   "outputs": [
    {
     "name": "stdout",
     "output_type": "stream",
     "text": [
      "Enter Number of Lines: 4\n",
      "Enter Input: <!--[if IE 9]>IE9-specific content\n",
      "Enter Input: <![endif]-->\n",
      "Enter Input: <div> Welcome to HackerRank</div>\n",
      "Enter Input: <!--[if IE 9]>IE9-specific content<![endif]-->\n",
      ">>> Multi-line Comment\n",
      "[if IE 9]>IE9-specific content\n",
      "<![endif]\n",
      ">>> Data\n",
      " Welcome to HackerRank\n",
      ">>> Single-line Comment\n",
      "[if IE 9]>IE9-specific content<![endif]\n"
     ]
    }
   ],
   "source": [
    "# HTML parser-Part 2\n",
    "\n",
    "from html.parser import HTMLParser\n",
    "class MyHTMLParser(HTMLParser):\n",
    "        def handle_comment(self, data):\n",
    "            data = data.split('\\n')\n",
    "            if len(data) == 1:\n",
    "                print('>>> Single-line Comment', *data, sep='\\n')\n",
    "            else:\n",
    "                print('>>> Multi-line Comment', *data, sep='\\n')\n",
    "            \n",
    "        def handle_data(self, data):\n",
    "            if data.strip():\n",
    "                print('>>> Data', *data.split('\\n'), sep='\\n')\n",
    "  \n",
    "html = \"\"       \n",
    "for i in range(int(input('Enter Number of Lines: '))):\n",
    "    html += input('Enter Input: ').rstrip()\n",
    "    html += '\\n'\n",
    "    \n",
    "parser = MyHTMLParser()\n",
    "parser.feed(html)\n",
    "parser.close()"
   ]
  },
  {
   "cell_type": "markdown",
   "id": "4d37c1e8",
   "metadata": {},
   "source": [
    "#### Q13. Answer"
   ]
  },
  {
   "cell_type": "code",
   "execution_count": 13,
   "id": "045dec3e",
   "metadata": {
    "scrolled": true
   },
   "outputs": [],
   "source": [
    "# Detect HTML Tags, Attributes and Attribute Values\n",
    "\n",
    "# from html.parser import HTMLParser\n",
    "\n",
    "# for i in range(int(input('Enter Number of Lines: '))):\n",
    "#     text = '\\n'.join(input('Enter Input: '))\n",
    "\n",
    "# class MyHTMLParser(HTMLParser):\n",
    "#         def handle_starttag(self, tag, attrs):\n",
    "#             print(tag)\n",
    "#             for attr in attrs:\n",
    "#                 print('->', attr[0], '>', attr[1])\n",
    "\n",
    "# parser = MyHTMLParser()\n",
    "# parser.feed(text)"
   ]
  },
  {
   "cell_type": "markdown",
   "id": "c90c6ffc",
   "metadata": {},
   "source": [
    "#### Q14. Answer"
   ]
  },
  {
   "cell_type": "code",
   "execution_count": 16,
   "id": "818d7ca2",
   "metadata": {},
   "outputs": [
    {
     "name": "stdout",
     "output_type": "stream",
     "text": [
      "Enter Number of Entries: 2\n",
      "Enter: UIDB1CD102354\n",
      "Invalid\n",
      "Enter: UIDB1CDEF2354\n",
      "Invalid\n"
     ]
    }
   ],
   "source": [
    "# Validating UID\n",
    "\n",
    "import re\n",
    "def validating_uid(UID):\n",
    "    if len(re.findall(r'[A-Z]', UID))<2 or \\\n",
    "       len(re.findall(r'[A-Z]', UID))<3 or \\\n",
    "       not re.match(r\"[A-Za-z0-9]{10}$\", UID) or \\\n",
    "       len(set(UID))!= len(UID):\n",
    "        return False\n",
    "    return True\n",
    "    \n",
    "N = int(input('Enter Number of Entries: '))\n",
    "for i in range(N):\n",
    "    UID = input('Enter: ')\n",
    "    if validating_uid(UID):\n",
    "        print(\"Valid\")\n",
    "    else:\n",
    "        print(\"Invalid\")"
   ]
  },
  {
   "cell_type": "markdown",
   "id": "2d6ce0bf",
   "metadata": {},
   "source": [
    "#### Q15. Answer"
   ]
  },
  {
   "cell_type": "code",
   "execution_count": 17,
   "id": "d6de98db",
   "metadata": {},
   "outputs": [
    {
     "name": "stdout",
     "output_type": "stream",
     "text": [
      "Enter Number of Entries: 6\n",
      "Enter Credit Number: 4123456789123456\n",
      "Valid\n",
      "Enter Credit Number: 5123-4567-8912-3456\n",
      "Valid\n",
      "Enter Credit Number: 61234-567-8912-3456\n",
      "Invalid\n",
      "Enter Credit Number: 4123356789123456\n",
      "Valid\n",
      "Enter Credit Number: 5133-3367-8912-3456\n",
      "Valid\n",
      "Enter Credit Number: 5123 - 3567 - 8912 - 3456\n",
      "Invalid\n"
     ]
    }
   ],
   "source": [
    "# Validating Credit Card Numbers\n",
    "\n",
    "import re\n",
    "pattern = re.compile(r\"^[4-6][0-9]{3}[-]?[0-9]{4}[-]?[0-9]{4}[-]?[0-9]{4}\")\n",
    "\n",
    "for i in range(int(input('Enter Number of Entries: ').strip())):\n",
    "    if pattern.search(input('Enter Credit Number: ').strip()):\n",
    "        print('Valid')\n",
    "    else:\n",
    "        print('Invalid')"
   ]
  },
  {
   "cell_type": "markdown",
   "id": "bcae5af2",
   "metadata": {},
   "source": [
    "#### Q16. Answer"
   ]
  },
  {
   "cell_type": "code",
   "execution_count": 18,
   "id": "ac3c40cd",
   "metadata": {},
   "outputs": [
    {
     "name": "stdout",
     "output_type": "stream",
     "text": [
      "Enter Postal COde: 110000\n",
      "False\n"
     ]
    }
   ],
   "source": [
    "# Validating Postal Codes\n",
    "\n",
    "regex_integer_in_range = r\"^\\d{6}$\"\t# Do not delete 'r'.\n",
    "regex_alternating_repetitive_digit_pair = r\"(\\d)(?=.\\1)\"\t# Do not delete 'r'.\n",
    "\n",
    "\n",
    "import re\n",
    "P = input('Enter Postal COde: ')\n",
    "\n",
    "print (bool(re.match(regex_integer_in_range, P)) \n",
    "and len(re.findall(regex_alternating_repetitive_digit_pair, P)) < 2)"
   ]
  },
  {
   "cell_type": "markdown",
   "id": "4e165351",
   "metadata": {},
   "source": [
    "#### Q17. Answer"
   ]
  },
  {
   "cell_type": "code",
   "execution_count": 19,
   "id": "b91aa21d",
   "metadata": {
    "scrolled": true
   },
   "outputs": [],
   "source": [
    "# Matrix Script\n"
   ]
  }
 ],
 "metadata": {
  "kernelspec": {
   "display_name": "Python 3 (ipykernel)",
   "language": "python",
   "name": "python3"
  },
  "language_info": {
   "codemirror_mode": {
    "name": "ipython",
    "version": 3
   },
   "file_extension": ".py",
   "mimetype": "text/x-python",
   "name": "python",
   "nbconvert_exporter": "python",
   "pygments_lexer": "ipython3",
   "version": "3.9.7"
  }
 },
 "nbformat": 4,
 "nbformat_minor": 5
}
